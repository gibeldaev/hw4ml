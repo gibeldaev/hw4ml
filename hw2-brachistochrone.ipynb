{
 "cells": [
  {
   "cell_type": "code",
   "execution_count": 1,
   "id": "dccbf0bc",
   "metadata": {
    "execution": {
     "iopub.execute_input": "2024-10-20T16:33:39.320655Z",
     "iopub.status.busy": "2024-10-20T16:33:39.319312Z",
     "iopub.status.idle": "2024-10-20T16:33:39.372548Z",
     "shell.execute_reply": "2024-10-20T16:33:39.371227Z"
    },
    "id": "3w3OzA9MixZP",
    "papermill": {
     "duration": 0.06316,
     "end_time": "2024-10-20T16:33:39.375234",
     "exception": false,
     "start_time": "2024-10-20T16:33:39.312074",
     "status": "completed"
    },
    "tags": []
   },
   "outputs": [
    {
     "data": {
      "text/plain": [
       "'1.14.1'"
      ]
     },
     "execution_count": 1,
     "metadata": {},
     "output_type": "execute_result"
    }
   ],
   "source": [
    "import sys\n",
    "import numpy as np\n",
    "import scipy as sp\n",
    "import matplotlib.pyplot as plt\n",
    "\n",
    "sp.__version__"
   ]
  },
  {
   "cell_type": "markdown",
   "id": "c1bebacc",
   "metadata": {
    "papermill": {
     "duration": 0.004664,
     "end_time": "2024-10-20T16:33:39.384981",
     "exception": false,
     "start_time": "2024-10-20T16:33:39.380317",
     "status": "completed"
    },
    "tags": []
   },
   "source": [
    "---\n",
    "###  Брахистохрона\n",
    "Задача о нахождении кривой наискорейшего спуска, или *брахистохроны*, состоит в том, чтобы найти такую форму горки, чтобы время скатывания  по ней тела без трения было минимальным. \n",
    "\n",
    "![SegmentLocal](https://upload.wikimedia.org/wikipedia/commons/6/63/Brachistochrone.gif)\n",
    "\n",
    "Известно, что решение этой задачи - трансцедентная кривая, называемая [циклоидой](https://ru.wikipedia.org/wiki/%D0%A6%D0%B8%D0%BA%D0%BB%D0%BE%D0%B8%D0%B4%D0%B0). Кроме того, что это кривая минимизирует время спуска, она является траекторией точки на границе катящейся окружности, время спуска по этой кривой не зависит от начального положения, а еще маятник в часах имеет циклоидальный ограничитель, благодаря чему частота его колебаний не зависит от амплитуды.\n",
    "\n",
    "Она была поставлена Иоганном Бернулли в 1696 году. Разные решения предлагали Исаак Ньютон, Якоб Бернулли, Г. В. Лейбниц, Г. Ф. Лопиталь, Э. В. Чирнхаус. Скорее всего, вы уже находили ее на курсе по вариационному исчислению, минимизируя значение какого-то там интеграла. Здесь же предлагается приблизить брахстохрону при помощи функционала scipy.optimize.\n",
    "\n",
    "Самый простой способ построить брахистохрону - параметризовать ее (вывод формул из закона сохранения энергии можно найти [тут](https://en.wikipedia.org/wiki/Brachistochrone_curve#Indirect_method)\n",
    "$$x = r \\theta - r\\sin \\theta $$\n",
    "$$y = r - r\\cos  \\theta$$\n",
    "\n",
    "Т.е. мы хотим найти такие $\\theta$ и $r$, что соответсвущая дуга циклоиды соединяет концы нашей горки.\n",
    "\n",
    "**Как будем решать такую задачу?**"
   ]
  },
  {
   "cell_type": "code",
   "execution_count": 2,
   "id": "4f6ef23b",
   "metadata": {
    "execution": {
     "iopub.execute_input": "2024-10-20T16:33:39.396585Z",
     "iopub.status.busy": "2024-10-20T16:33:39.396107Z",
     "iopub.status.idle": "2024-10-20T16:33:40.088703Z",
     "shell.execute_reply": "2024-10-20T16:33:40.087082Z"
    },
    "papermill": {
     "duration": 0.702184,
     "end_time": "2024-10-20T16:33:40.091990",
     "exception": false,
     "start_time": "2024-10-20T16:33:39.389806",
     "status": "completed"
    },
    "tags": []
   },
   "outputs": [],
   "source": [
    "from scipy import optimize\n",
    "\n",
    "HEIGHT = 13\n",
    "WIDTH = 37\n",
    "\n",
    "\n",
    "# Находим \\theta и r\n",
    "def cycl(theta):\n",
    "    return (1 - np.cos(theta)) / (theta - np.sin(theta)) - HEIGHT / WIDTH\n",
    "\n",
    "\n",
    "# r = 1.0\n",
    "theta = sp.optimize.root(cycl, 0.001)\n",
    "theta = theta.x[0]\n",
    "# theta"
   ]
  },
  {
   "cell_type": "code",
   "execution_count": 3,
   "id": "3adff327",
   "metadata": {
    "execution": {
     "iopub.execute_input": "2024-10-20T16:33:40.104126Z",
     "iopub.status.busy": "2024-10-20T16:33:40.103505Z",
     "iopub.status.idle": "2024-10-20T16:33:40.385840Z",
     "shell.execute_reply": "2024-10-20T16:33:40.384636Z"
    },
    "papermill": {
     "duration": 0.291651,
     "end_time": "2024-10-20T16:33:40.388762",
     "exception": false,
     "start_time": "2024-10-20T16:33:40.097111",
     "status": "completed"
    },
    "tags": []
   },
   "outputs": [
    {
     "data": {
      "image/png": "[encoded data removed]",
      "text/plain": [
       "<Figure size 640x480 with 1 Axes>"
      ]
     },
     "metadata": {},
     "output_type": "display_data"
    }
   ],
   "source": [
    "# отрисуем правильный ответ:\n",
    "fig = plt.figure()\n",
    "ax = fig.add_subplot(111)\n",
    "\n",
    "r = HEIGHT / (1 - np.cos(theta))\n",
    "\n",
    "ts = np.linspace(0, theta, 1000)\n",
    "sol_xs = r * (ts - np.sin(ts))\n",
    "sol_ys = HEIGHT - r * (1 - np.cos(ts))\n",
    "\n",
    "ax.plot(sol_xs, sol_ys)\n",
    "fig.canvas.draw()\n",
    "plt.show(block=False)"
   ]
  },
  {
   "cell_type": "markdown",
   "id": "e2c272a4",
   "metadata": {
    "papermill": {
     "duration": 0.004916,
     "end_time": "2024-10-20T16:33:40.399208",
     "exception": false,
     "start_time": "2024-10-20T16:33:40.394292",
     "status": "completed"
    },
    "tags": []
   },
   "source": [
    "### Задача 3: Брахистохрона (1 балл)\n",
    "\n",
    "В классе мы находили брахистохрону через параметризацию соответсвубщей дуги циклоиды. Ключевым здесь было то, что мы заранее знали, в каком виде искать ответ, что, к сожалению, далеко не всегда случается в реальной жизни. В этой задаче вам нужно будет построить кусочно-динейное приближение брахистохроны, не пользуясь явными формулами для ее формы. Другими словами, напишите функционал, который под данным высотам точек вычисляет время спуска, -- и минимизируйте этот функционал средствами scipy."
   ]
  },
  {
   "cell_type": "code",
   "execution_count": 4,
   "id": "fc777564",
   "metadata": {
    "execution": {
     "iopub.execute_input": "2024-10-20T16:33:40.411505Z",
     "iopub.status.busy": "2024-10-20T16:33:40.411012Z",
     "iopub.status.idle": "2024-10-20T16:33:40.417248Z",
     "shell.execute_reply": "2024-10-20T16:33:40.416099Z"
    },
    "papermill": {
     "duration": 0.015424,
     "end_time": "2024-10-20T16:33:40.419862",
     "exception": false,
     "start_time": "2024-10-20T16:33:40.404438",
     "status": "completed"
    },
    "tags": []
   },
   "outputs": [],
   "source": [
    "# NB. Паметры горки и правильный ответ находятся выше - вы можете поменять их на свое усмотрение.\n",
    "NUM_POINTS = 50\n",
    "dx = WIDTH / (NUM_POINTS - 1)\n",
    "xs = np.linspace(0, WIDTH, NUM_POINTS)"
   ]
  },
  {
   "cell_type": "code",
   "execution_count": 5,
   "id": "74fcca0a",
   "metadata": {
    "execution": {
     "iopub.execute_input": "2024-10-20T16:33:40.432890Z",
     "iopub.status.busy": "2024-10-20T16:33:40.432425Z",
     "iopub.status.idle": "2024-10-20T16:33:40.747553Z",
     "shell.execute_reply": "2024-10-20T16:33:40.746036Z"
    },
    "papermill": {
     "duration": 0.326026,
     "end_time": "2024-10-20T16:33:40.751565",
     "exception": false,
     "start_time": "2024-10-20T16:33:40.425539",
     "status": "completed"
    },
    "tags": []
   },
   "outputs": [
    {
     "data": {
      "image/png": "[encoded data removed]",
      "text/plain": [
       "<Figure size 640x480 with 1 Axes>"
      ]
     },
     "metadata": {},
     "output_type": "display_data"
    }
   ],
   "source": [
    "def draw(ys):\n",
    "    fig = plt.figure()\n",
    "    ax = fig.add_subplot(111)\n",
    "    ax.plot(sol_xs, sol_ys)\n",
    "    (li,) = ax.plot(xs, ys, marker=\"o\")\n",
    "\n",
    "\n",
    "# инициализируем горку прямой\n",
    "ys = np.linspace(HEIGHT, 0, NUM_POINTS)\n",
    "draw(ys)"
   ]
  },
  {
   "cell_type": "code",
   "execution_count": 6,
   "id": "982f1886",
   "metadata": {
    "execution": {
     "iopub.execute_input": "2024-10-20T16:33:40.765813Z",
     "iopub.status.busy": "2024-10-20T16:33:40.765343Z",
     "iopub.status.idle": "2024-10-20T16:33:40.779520Z",
     "shell.execute_reply": "2024-10-20T16:33:40.778201Z"
    },
    "papermill": {
     "duration": 0.024669,
     "end_time": "2024-10-20T16:33:40.782396",
     "exception": false,
     "start_time": "2024-10-20T16:33:40.757727",
     "status": "completed"
    },
    "tags": []
   },
   "outputs": [
    {
     "data": {
      "text/plain": [
       "4.91119282308311"
      ]
     },
     "execution_count": 6,
     "metadata": {},
     "output_type": "execute_result"
    }
   ],
   "source": [
    "def get_time(ys):\n",
    "    \"\"\"\n",
    "    :param ys: heigths of our points\n",
    "    :return: total time\n",
    "    \"\"\"\n",
    "    time = 0\n",
    "    g = 9.81\n",
    "    for i in range(NUM_POINTS - 1):\n",
    "        h1 = HEIGHT - ys[i]\n",
    "        h2 = HEIGHT - ys[i + 1]\n",
    "        v1 = np.sqrt(2 * g * h1)\n",
    "        v2 = np.sqrt(2 * g * h2)\n",
    "        vsr = (v1 + v2) / 2\n",
    "        time += np.sqrt(dx**2 + (ys[i] - ys[i + 1]) ** 2) / vsr\n",
    "    return time\n",
    "\n",
    "\n",
    "get_time(ys)"
   ]
  },
  {
   "cell_type": "code",
   "execution_count": 7,
   "id": "bbb33c42",
   "metadata": {
    "execution": {
     "iopub.execute_input": "2024-10-20T16:33:40.797251Z",
     "iopub.status.busy": "2024-10-20T16:33:40.796011Z",
     "iopub.status.idle": "2024-10-20T16:33:43.867463Z",
     "shell.execute_reply": "2024-10-20T16:33:43.865993Z"
    },
    "papermill": {
     "duration": 3.08203,
     "end_time": "2024-10-20T16:33:43.870519",
     "exception": false,
     "start_time": "2024-10-20T16:33:40.788489",
     "status": "completed"
    },
    "tags": []
   },
   "outputs": [
    {
     "data": {
      "image/png": "[encoded data removed]",
      "text/plain": [
       "<Figure size 640x480 with 1 Axes>"
      ]
     },
     "metadata": {},
     "output_type": "display_data"
    }
   ],
   "source": [
    "# Bounds: we can not move the first and the last points\n",
    "bounds = (\n",
    "    [(HEIGHT, HEIGHT)]\n",
    "    + [(-float(\"inf\"), float(\"inf\")) for _ in range(NUM_POINTS - 2)]\n",
    "    + [(0, 0)]\n",
    ")\n",
    "\n",
    "# Run the optimization\n",
    "\n",
    "\n",
    "result = sp.optimize.minimize(get_time, ys, bounds=bounds)\n",
    "\n",
    "\n",
    "draw(result.x)"
   ]
  },
  {
   "cell_type": "code",
   "execution_count": 8,
   "id": "5f7e839e",
   "metadata": {
    "execution": {
     "iopub.execute_input": "2024-10-20T16:33:43.885387Z",
     "iopub.status.busy": "2024-10-20T16:33:43.884905Z",
     "iopub.status.idle": "2024-10-20T16:33:43.893713Z",
     "shell.execute_reply": "2024-10-20T16:33:43.892433Z"
    },
    "papermill": {
     "duration": 0.019394,
     "end_time": "2024-10-20T16:33:43.896436",
     "exception": false,
     "start_time": "2024-10-20T16:33:43.877042",
     "status": "completed"
    },
    "tags": []
   },
   "outputs": [
    {
     "data": {
      "text/plain": [
       "(4.91119282308311, 3.565472659787059)"
      ]
     },
     "execution_count": 8,
     "metadata": {},
     "output_type": "execute_result"
    }
   ],
   "source": [
    "get_time(ys), get_time(result.x)"
   ]
  },
  {
   "cell_type": "markdown",
   "id": "1a661d08",
   "metadata": {
    "papermill": {
     "duration": 0.007224,
     "end_time": "2024-10-20T16:33:43.910288",
     "exception": false,
     "start_time": "2024-10-20T16:33:43.903064",
     "status": "completed"
    },
    "tags": []
   },
   "source": [
    "---\n",
    "\n",
    "This notebook is basen on Anton Alekseev's practical lessons at MCS SPBU and [this](https://github.com/jrjohansson/scientific-python-lectures/blob/master/Lecture-3-Scipy.ipynb)"
   ]
  }
 ],
 "metadata": {
  "colab": {
   "collapsed_sections": [
    "jgbEEu2JEJbv"
   ],
   "name": "mcs_spring2021_scipy_pandas.ipynb",
   "provenance": []
  },
  "kaggle": {
   "accelerator": "none",
   "dataSources": [],
   "dockerImageVersionId": 30786,
   "isGpuEnabled": false,
   "isInternetEnabled": true,
   "language": "python",
   "sourceType": "notebook"
  },
  "kernelspec": {
   "display_name": "Python 3",
   "language": "python",
   "name": "python3"
  },
  "language_info": {
   "codemirror_mode": {
    "name": "ipython",
    "version": 3
   },
   "file_extension": ".py",
   "mimetype": "text/x-python",
   "name": "python",
   "nbconvert_exporter": "python",
   "pygments_lexer": "ipython3",
   "version": "3.10.14"
  },
  "papermill": {
   "default_parameters": {},
   "duration": 8.823972,
   "end_time": "2024-10-20T16:33:44.441373",
   "environment_variables": {},
   "exception": null,
   "input_path": "__notebook__.ipynb",
   "output_path": "__notebook__.ipynb",
   "parameters": {},
   "start_time": "2024-10-20T16:33:35.617401",
   "version": "2.6.0"
  }
 },
 "nbformat": 4,
 "nbformat_minor": 5
}
